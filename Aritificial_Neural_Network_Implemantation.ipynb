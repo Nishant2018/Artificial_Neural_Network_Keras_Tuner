{
 "cells": [
  {
   "cell_type": "markdown",
   "id": "3a1c6493",
   "metadata": {},
   "source": [
    "### Importing Libraries"
   ]
  },
  {
   "cell_type": "code",
   "execution_count": 1,
   "id": "3d0d2799",
   "metadata": {},
   "outputs": [],
   "source": [
    "import pandas as pd\n",
    "import numpy as np\n",
    "import seaborn as sns \n",
    "from matplotlib import pyplot as plt"
   ]
  },
  {
   "cell_type": "code",
   "execution_count": 2,
   "id": "07d9e46d",
   "metadata": {},
   "outputs": [],
   "source": [
    "Data = pd.read_csv(\"C:\\\\Users\\\\EXCELL  COMPUTERS\\\\Programming_Data_Science\\\\CSV_Files\\\\Churn_Modelling_deep_learning.csv\")"
   ]
  },
  {
   "cell_type": "code",
   "execution_count": 3,
   "id": "7d65af83",
   "metadata": {},
   "outputs": [],
   "source": [
    "pd.options.display.max_rows = 120000"
   ]
  },
  {
   "cell_type": "code",
   "execution_count": 4,
   "id": "3b5b374b",
   "metadata": {},
   "outputs": [
    {
     "data": {
      "text/html": [
       "<div>\n",
       "<style scoped>\n",
       "    .dataframe tbody tr th:only-of-type {\n",
       "        vertical-align: middle;\n",
       "    }\n",
       "\n",
       "    .dataframe tbody tr th {\n",
       "        vertical-align: top;\n",
       "    }\n",
       "\n",
       "    .dataframe thead th {\n",
       "        text-align: right;\n",
       "    }\n",
       "</style>\n",
       "<table border=\"1\" class=\"dataframe\">\n",
       "  <thead>\n",
       "    <tr style=\"text-align: right;\">\n",
       "      <th></th>\n",
       "      <th>RowNumber</th>\n",
       "      <th>CustomerId</th>\n",
       "      <th>Surname</th>\n",
       "      <th>CreditScore</th>\n",
       "      <th>Geography</th>\n",
       "      <th>Gender</th>\n",
       "      <th>Age</th>\n",
       "      <th>Tenure</th>\n",
       "      <th>Balance</th>\n",
       "      <th>NumOfProducts</th>\n",
       "      <th>HasCrCard</th>\n",
       "      <th>IsActiveMember</th>\n",
       "      <th>EstimatedSalary</th>\n",
       "      <th>Exited</th>\n",
       "    </tr>\n",
       "  </thead>\n",
       "  <tbody>\n",
       "    <tr>\n",
       "      <th>0</th>\n",
       "      <td>1</td>\n",
       "      <td>15634602</td>\n",
       "      <td>Hargrave</td>\n",
       "      <td>619</td>\n",
       "      <td>France</td>\n",
       "      <td>Female</td>\n",
       "      <td>42</td>\n",
       "      <td>2</td>\n",
       "      <td>0.00</td>\n",
       "      <td>1</td>\n",
       "      <td>1</td>\n",
       "      <td>1</td>\n",
       "      <td>101348.88</td>\n",
       "      <td>1</td>\n",
       "    </tr>\n",
       "    <tr>\n",
       "      <th>1</th>\n",
       "      <td>2</td>\n",
       "      <td>15647311</td>\n",
       "      <td>Hill</td>\n",
       "      <td>608</td>\n",
       "      <td>Spain</td>\n",
       "      <td>Female</td>\n",
       "      <td>41</td>\n",
       "      <td>1</td>\n",
       "      <td>83807.86</td>\n",
       "      <td>1</td>\n",
       "      <td>0</td>\n",
       "      <td>1</td>\n",
       "      <td>112542.58</td>\n",
       "      <td>0</td>\n",
       "    </tr>\n",
       "    <tr>\n",
       "      <th>2</th>\n",
       "      <td>3</td>\n",
       "      <td>15619304</td>\n",
       "      <td>Onio</td>\n",
       "      <td>502</td>\n",
       "      <td>France</td>\n",
       "      <td>Female</td>\n",
       "      <td>42</td>\n",
       "      <td>8</td>\n",
       "      <td>159660.80</td>\n",
       "      <td>3</td>\n",
       "      <td>1</td>\n",
       "      <td>0</td>\n",
       "      <td>113931.57</td>\n",
       "      <td>1</td>\n",
       "    </tr>\n",
       "    <tr>\n",
       "      <th>3</th>\n",
       "      <td>4</td>\n",
       "      <td>15701354</td>\n",
       "      <td>Boni</td>\n",
       "      <td>699</td>\n",
       "      <td>France</td>\n",
       "      <td>Female</td>\n",
       "      <td>39</td>\n",
       "      <td>1</td>\n",
       "      <td>0.00</td>\n",
       "      <td>2</td>\n",
       "      <td>0</td>\n",
       "      <td>0</td>\n",
       "      <td>93826.63</td>\n",
       "      <td>0</td>\n",
       "    </tr>\n",
       "    <tr>\n",
       "      <th>4</th>\n",
       "      <td>5</td>\n",
       "      <td>15737888</td>\n",
       "      <td>Mitchell</td>\n",
       "      <td>850</td>\n",
       "      <td>Spain</td>\n",
       "      <td>Female</td>\n",
       "      <td>43</td>\n",
       "      <td>2</td>\n",
       "      <td>125510.82</td>\n",
       "      <td>1</td>\n",
       "      <td>1</td>\n",
       "      <td>1</td>\n",
       "      <td>79084.10</td>\n",
       "      <td>0</td>\n",
       "    </tr>\n",
       "  </tbody>\n",
       "</table>\n",
       "</div>"
      ],
      "text/plain": [
       "   RowNumber  CustomerId   Surname  CreditScore Geography  Gender  Age  \\\n",
       "0          1    15634602  Hargrave          619    France  Female   42   \n",
       "1          2    15647311      Hill          608     Spain  Female   41   \n",
       "2          3    15619304      Onio          502    France  Female   42   \n",
       "3          4    15701354      Boni          699    France  Female   39   \n",
       "4          5    15737888  Mitchell          850     Spain  Female   43   \n",
       "\n",
       "   Tenure    Balance  NumOfProducts  HasCrCard  IsActiveMember  \\\n",
       "0       2       0.00              1          1               1   \n",
       "1       1   83807.86              1          0               1   \n",
       "2       8  159660.80              3          1               0   \n",
       "3       1       0.00              2          0               0   \n",
       "4       2  125510.82              1          1               1   \n",
       "\n",
       "   EstimatedSalary  Exited  \n",
       "0        101348.88       1  \n",
       "1        112542.58       0  \n",
       "2        113931.57       1  \n",
       "3         93826.63       0  \n",
       "4         79084.10       0  "
      ]
     },
     "execution_count": 4,
     "metadata": {},
     "output_type": "execute_result"
    }
   ],
   "source": [
    "Data.head(5)"
   ]
  },
  {
   "cell_type": "markdown",
   "id": "f82d2c08",
   "metadata": {},
   "source": [
    "### Data type checking"
   ]
  },
  {
   "cell_type": "code",
   "execution_count": 5,
   "id": "d44489a1",
   "metadata": {},
   "outputs": [
    {
     "name": "stdout",
     "output_type": "stream",
     "text": [
      "<class 'pandas.core.frame.DataFrame'>\n",
      "RangeIndex: 10000 entries, 0 to 9999\n",
      "Data columns (total 14 columns):\n",
      " #   Column           Non-Null Count  Dtype  \n",
      "---  ------           --------------  -----  \n",
      " 0   RowNumber        10000 non-null  int64  \n",
      " 1   CustomerId       10000 non-null  int64  \n",
      " 2   Surname          10000 non-null  object \n",
      " 3   CreditScore      10000 non-null  int64  \n",
      " 4   Geography        10000 non-null  object \n",
      " 5   Gender           10000 non-null  object \n",
      " 6   Age              10000 non-null  int64  \n",
      " 7   Tenure           10000 non-null  int64  \n",
      " 8   Balance          10000 non-null  float64\n",
      " 9   NumOfProducts    10000 non-null  int64  \n",
      " 10  HasCrCard        10000 non-null  int64  \n",
      " 11  IsActiveMember   10000 non-null  int64  \n",
      " 12  EstimatedSalary  10000 non-null  float64\n",
      " 13  Exited           10000 non-null  int64  \n",
      "dtypes: float64(2), int64(9), object(3)\n",
      "memory usage: 1.1+ MB\n"
     ]
    }
   ],
   "source": [
    "Data.info()"
   ]
  },
  {
   "cell_type": "markdown",
   "id": "36758c52",
   "metadata": {},
   "source": [
    "### Null data checking"
   ]
  },
  {
   "cell_type": "code",
   "execution_count": 6,
   "id": "9aa1623e",
   "metadata": {
    "scrolled": true
   },
   "outputs": [
    {
     "data": {
      "text/plain": [
       "RowNumber          0\n",
       "CustomerId         0\n",
       "Surname            0\n",
       "CreditScore        0\n",
       "Geography          0\n",
       "Gender             0\n",
       "Age                0\n",
       "Tenure             0\n",
       "Balance            0\n",
       "NumOfProducts      0\n",
       "HasCrCard          0\n",
       "IsActiveMember     0\n",
       "EstimatedSalary    0\n",
       "Exited             0\n",
       "dtype: int64"
      ]
     },
     "execution_count": 6,
     "metadata": {},
     "output_type": "execute_result"
    }
   ],
   "source": [
    "Data.isnull().sum()"
   ]
  },
  {
   "cell_type": "markdown",
   "id": "2ca4282c",
   "metadata": {},
   "source": [
    "### Converting categorical data"
   ]
  },
  {
   "cell_type": "code",
   "execution_count": 7,
   "id": "787893ed",
   "metadata": {},
   "outputs": [
    {
     "data": {
      "text/plain": [
       "array(['France', 'Spain', 'Germany'], dtype=object)"
      ]
     },
     "execution_count": 7,
     "metadata": {},
     "output_type": "execute_result"
    }
   ],
   "source": [
    "Data['Geography'].unique()"
   ]
  },
  {
   "cell_type": "code",
   "execution_count": 8,
   "id": "3b80bc85",
   "metadata": {},
   "outputs": [
    {
     "data": {
      "text/plain": [
       "array(['Hargrave', 'Hill', 'Onio', ..., 'Kashiwagi', 'Aldridge',\n",
       "       'Burbidge'], dtype=object)"
      ]
     },
     "execution_count": 8,
     "metadata": {},
     "output_type": "execute_result"
    }
   ],
   "source": [
    "Data['Surname'].unique()"
   ]
  },
  {
   "cell_type": "code",
   "execution_count": 9,
   "id": "843f02b4",
   "metadata": {},
   "outputs": [],
   "source": [
    "C_gender = pd.get_dummies(Data['Gender'],dtype=int)"
   ]
  },
  {
   "cell_type": "code",
   "execution_count": 10,
   "id": "0fb84f24",
   "metadata": {},
   "outputs": [
    {
     "data": {
      "text/html": [
       "<div>\n",
       "<style scoped>\n",
       "    .dataframe tbody tr th:only-of-type {\n",
       "        vertical-align: middle;\n",
       "    }\n",
       "\n",
       "    .dataframe tbody tr th {\n",
       "        vertical-align: top;\n",
       "    }\n",
       "\n",
       "    .dataframe thead th {\n",
       "        text-align: right;\n",
       "    }\n",
       "</style>\n",
       "<table border=\"1\" class=\"dataframe\">\n",
       "  <thead>\n",
       "    <tr style=\"text-align: right;\">\n",
       "      <th></th>\n",
       "      <th>Female</th>\n",
       "      <th>Male</th>\n",
       "    </tr>\n",
       "  </thead>\n",
       "  <tbody>\n",
       "    <tr>\n",
       "      <th>0</th>\n",
       "      <td>1</td>\n",
       "      <td>0</td>\n",
       "    </tr>\n",
       "    <tr>\n",
       "      <th>1</th>\n",
       "      <td>1</td>\n",
       "      <td>0</td>\n",
       "    </tr>\n",
       "    <tr>\n",
       "      <th>2</th>\n",
       "      <td>1</td>\n",
       "      <td>0</td>\n",
       "    </tr>\n",
       "    <tr>\n",
       "      <th>3</th>\n",
       "      <td>1</td>\n",
       "      <td>0</td>\n",
       "    </tr>\n",
       "    <tr>\n",
       "      <th>4</th>\n",
       "      <td>1</td>\n",
       "      <td>0</td>\n",
       "    </tr>\n",
       "  </tbody>\n",
       "</table>\n",
       "</div>"
      ],
      "text/plain": [
       "   Female  Male\n",
       "0       1     0\n",
       "1       1     0\n",
       "2       1     0\n",
       "3       1     0\n",
       "4       1     0"
      ]
     },
     "execution_count": 10,
     "metadata": {},
     "output_type": "execute_result"
    }
   ],
   "source": [
    "C_gender.head(5)"
   ]
  },
  {
   "cell_type": "code",
   "execution_count": 11,
   "id": "0cdc33ec",
   "metadata": {},
   "outputs": [],
   "source": [
    "Data = pd.concat([Data,C_gender],axis=1)"
   ]
  },
  {
   "cell_type": "code",
   "execution_count": 12,
   "id": "ec59e55a",
   "metadata": {},
   "outputs": [],
   "source": [
    "Data = Data.drop(['Gender'],axis=1)"
   ]
  },
  {
   "cell_type": "code",
   "execution_count": 13,
   "id": "ec62fcbe",
   "metadata": {},
   "outputs": [
    {
     "data": {
      "text/html": [
       "<div>\n",
       "<style scoped>\n",
       "    .dataframe tbody tr th:only-of-type {\n",
       "        vertical-align: middle;\n",
       "    }\n",
       "\n",
       "    .dataframe tbody tr th {\n",
       "        vertical-align: top;\n",
       "    }\n",
       "\n",
       "    .dataframe thead th {\n",
       "        text-align: right;\n",
       "    }\n",
       "</style>\n",
       "<table border=\"1\" class=\"dataframe\">\n",
       "  <thead>\n",
       "    <tr style=\"text-align: right;\">\n",
       "      <th></th>\n",
       "      <th>RowNumber</th>\n",
       "      <th>CustomerId</th>\n",
       "      <th>Surname</th>\n",
       "      <th>CreditScore</th>\n",
       "      <th>Geography</th>\n",
       "      <th>Age</th>\n",
       "      <th>Tenure</th>\n",
       "      <th>Balance</th>\n",
       "      <th>NumOfProducts</th>\n",
       "      <th>HasCrCard</th>\n",
       "      <th>IsActiveMember</th>\n",
       "      <th>EstimatedSalary</th>\n",
       "      <th>Exited</th>\n",
       "      <th>Female</th>\n",
       "      <th>Male</th>\n",
       "    </tr>\n",
       "  </thead>\n",
       "  <tbody>\n",
       "    <tr>\n",
       "      <th>0</th>\n",
       "      <td>1</td>\n",
       "      <td>15634602</td>\n",
       "      <td>Hargrave</td>\n",
       "      <td>619</td>\n",
       "      <td>France</td>\n",
       "      <td>42</td>\n",
       "      <td>2</td>\n",
       "      <td>0.00</td>\n",
       "      <td>1</td>\n",
       "      <td>1</td>\n",
       "      <td>1</td>\n",
       "      <td>101348.88</td>\n",
       "      <td>1</td>\n",
       "      <td>1</td>\n",
       "      <td>0</td>\n",
       "    </tr>\n",
       "    <tr>\n",
       "      <th>1</th>\n",
       "      <td>2</td>\n",
       "      <td>15647311</td>\n",
       "      <td>Hill</td>\n",
       "      <td>608</td>\n",
       "      <td>Spain</td>\n",
       "      <td>41</td>\n",
       "      <td>1</td>\n",
       "      <td>83807.86</td>\n",
       "      <td>1</td>\n",
       "      <td>0</td>\n",
       "      <td>1</td>\n",
       "      <td>112542.58</td>\n",
       "      <td>0</td>\n",
       "      <td>1</td>\n",
       "      <td>0</td>\n",
       "    </tr>\n",
       "    <tr>\n",
       "      <th>2</th>\n",
       "      <td>3</td>\n",
       "      <td>15619304</td>\n",
       "      <td>Onio</td>\n",
       "      <td>502</td>\n",
       "      <td>France</td>\n",
       "      <td>42</td>\n",
       "      <td>8</td>\n",
       "      <td>159660.80</td>\n",
       "      <td>3</td>\n",
       "      <td>1</td>\n",
       "      <td>0</td>\n",
       "      <td>113931.57</td>\n",
       "      <td>1</td>\n",
       "      <td>1</td>\n",
       "      <td>0</td>\n",
       "    </tr>\n",
       "    <tr>\n",
       "      <th>3</th>\n",
       "      <td>4</td>\n",
       "      <td>15701354</td>\n",
       "      <td>Boni</td>\n",
       "      <td>699</td>\n",
       "      <td>France</td>\n",
       "      <td>39</td>\n",
       "      <td>1</td>\n",
       "      <td>0.00</td>\n",
       "      <td>2</td>\n",
       "      <td>0</td>\n",
       "      <td>0</td>\n",
       "      <td>93826.63</td>\n",
       "      <td>0</td>\n",
       "      <td>1</td>\n",
       "      <td>0</td>\n",
       "    </tr>\n",
       "    <tr>\n",
       "      <th>4</th>\n",
       "      <td>5</td>\n",
       "      <td>15737888</td>\n",
       "      <td>Mitchell</td>\n",
       "      <td>850</td>\n",
       "      <td>Spain</td>\n",
       "      <td>43</td>\n",
       "      <td>2</td>\n",
       "      <td>125510.82</td>\n",
       "      <td>1</td>\n",
       "      <td>1</td>\n",
       "      <td>1</td>\n",
       "      <td>79084.10</td>\n",
       "      <td>0</td>\n",
       "      <td>1</td>\n",
       "      <td>0</td>\n",
       "    </tr>\n",
       "  </tbody>\n",
       "</table>\n",
       "</div>"
      ],
      "text/plain": [
       "   RowNumber  CustomerId   Surname  CreditScore Geography  Age  Tenure  \\\n",
       "0          1    15634602  Hargrave          619    France   42       2   \n",
       "1          2    15647311      Hill          608     Spain   41       1   \n",
       "2          3    15619304      Onio          502    France   42       8   \n",
       "3          4    15701354      Boni          699    France   39       1   \n",
       "4          5    15737888  Mitchell          850     Spain   43       2   \n",
       "\n",
       "     Balance  NumOfProducts  HasCrCard  IsActiveMember  EstimatedSalary  \\\n",
       "0       0.00              1          1               1        101348.88   \n",
       "1   83807.86              1          0               1        112542.58   \n",
       "2  159660.80              3          1               0        113931.57   \n",
       "3       0.00              2          0               0         93826.63   \n",
       "4  125510.82              1          1               1         79084.10   \n",
       "\n",
       "   Exited  Female  Male  \n",
       "0       1       1     0  \n",
       "1       0       1     0  \n",
       "2       1       1     0  \n",
       "3       0       1     0  \n",
       "4       0       1     0  "
      ]
     },
     "execution_count": 13,
     "metadata": {},
     "output_type": "execute_result"
    }
   ],
   "source": [
    "Data.head(5)"
   ]
  },
  {
   "cell_type": "code",
   "execution_count": 14,
   "id": "63881719",
   "metadata": {},
   "outputs": [],
   "source": [
    "columns = ['RowNumber','CustomerId','Surname']\n",
    "Data = Data.drop(columns,axis=1)"
   ]
  },
  {
   "cell_type": "code",
   "execution_count": 15,
   "id": "87b42e94",
   "metadata": {},
   "outputs": [
    {
     "data": {
      "text/html": [
       "<div>\n",
       "<style scoped>\n",
       "    .dataframe tbody tr th:only-of-type {\n",
       "        vertical-align: middle;\n",
       "    }\n",
       "\n",
       "    .dataframe tbody tr th {\n",
       "        vertical-align: top;\n",
       "    }\n",
       "\n",
       "    .dataframe thead th {\n",
       "        text-align: right;\n",
       "    }\n",
       "</style>\n",
       "<table border=\"1\" class=\"dataframe\">\n",
       "  <thead>\n",
       "    <tr style=\"text-align: right;\">\n",
       "      <th></th>\n",
       "      <th>CreditScore</th>\n",
       "      <th>Geography</th>\n",
       "      <th>Age</th>\n",
       "      <th>Tenure</th>\n",
       "      <th>Balance</th>\n",
       "      <th>NumOfProducts</th>\n",
       "      <th>HasCrCard</th>\n",
       "      <th>IsActiveMember</th>\n",
       "      <th>EstimatedSalary</th>\n",
       "      <th>Exited</th>\n",
       "      <th>Female</th>\n",
       "      <th>Male</th>\n",
       "    </tr>\n",
       "  </thead>\n",
       "  <tbody>\n",
       "    <tr>\n",
       "      <th>0</th>\n",
       "      <td>619</td>\n",
       "      <td>France</td>\n",
       "      <td>42</td>\n",
       "      <td>2</td>\n",
       "      <td>0.00</td>\n",
       "      <td>1</td>\n",
       "      <td>1</td>\n",
       "      <td>1</td>\n",
       "      <td>101348.88</td>\n",
       "      <td>1</td>\n",
       "      <td>1</td>\n",
       "      <td>0</td>\n",
       "    </tr>\n",
       "    <tr>\n",
       "      <th>1</th>\n",
       "      <td>608</td>\n",
       "      <td>Spain</td>\n",
       "      <td>41</td>\n",
       "      <td>1</td>\n",
       "      <td>83807.86</td>\n",
       "      <td>1</td>\n",
       "      <td>0</td>\n",
       "      <td>1</td>\n",
       "      <td>112542.58</td>\n",
       "      <td>0</td>\n",
       "      <td>1</td>\n",
       "      <td>0</td>\n",
       "    </tr>\n",
       "    <tr>\n",
       "      <th>2</th>\n",
       "      <td>502</td>\n",
       "      <td>France</td>\n",
       "      <td>42</td>\n",
       "      <td>8</td>\n",
       "      <td>159660.80</td>\n",
       "      <td>3</td>\n",
       "      <td>1</td>\n",
       "      <td>0</td>\n",
       "      <td>113931.57</td>\n",
       "      <td>1</td>\n",
       "      <td>1</td>\n",
       "      <td>0</td>\n",
       "    </tr>\n",
       "    <tr>\n",
       "      <th>3</th>\n",
       "      <td>699</td>\n",
       "      <td>France</td>\n",
       "      <td>39</td>\n",
       "      <td>1</td>\n",
       "      <td>0.00</td>\n",
       "      <td>2</td>\n",
       "      <td>0</td>\n",
       "      <td>0</td>\n",
       "      <td>93826.63</td>\n",
       "      <td>0</td>\n",
       "      <td>1</td>\n",
       "      <td>0</td>\n",
       "    </tr>\n",
       "    <tr>\n",
       "      <th>4</th>\n",
       "      <td>850</td>\n",
       "      <td>Spain</td>\n",
       "      <td>43</td>\n",
       "      <td>2</td>\n",
       "      <td>125510.82</td>\n",
       "      <td>1</td>\n",
       "      <td>1</td>\n",
       "      <td>1</td>\n",
       "      <td>79084.10</td>\n",
       "      <td>0</td>\n",
       "      <td>1</td>\n",
       "      <td>0</td>\n",
       "    </tr>\n",
       "  </tbody>\n",
       "</table>\n",
       "</div>"
      ],
      "text/plain": [
       "   CreditScore Geography  Age  Tenure    Balance  NumOfProducts  HasCrCard  \\\n",
       "0          619    France   42       2       0.00              1          1   \n",
       "1          608     Spain   41       1   83807.86              1          0   \n",
       "2          502    France   42       8  159660.80              3          1   \n",
       "3          699    France   39       1       0.00              2          0   \n",
       "4          850     Spain   43       2  125510.82              1          1   \n",
       "\n",
       "   IsActiveMember  EstimatedSalary  Exited  Female  Male  \n",
       "0               1        101348.88       1       1     0  \n",
       "1               1        112542.58       0       1     0  \n",
       "2               0        113931.57       1       1     0  \n",
       "3               0         93826.63       0       1     0  \n",
       "4               1         79084.10       0       1     0  "
      ]
     },
     "execution_count": 15,
     "metadata": {},
     "output_type": "execute_result"
    }
   ],
   "source": [
    "Data.head(5)"
   ]
  },
  {
   "cell_type": "code",
   "execution_count": 16,
   "id": "7f0c7713",
   "metadata": {},
   "outputs": [],
   "source": [
    "mapp = {'France':1,'Spain':2,'Germany':3}\n",
    "Data['Geography'] = Data['Geography'].map(mapp)"
   ]
  },
  {
   "cell_type": "code",
   "execution_count": 17,
   "id": "c9454c90",
   "metadata": {
    "scrolled": true
   },
   "outputs": [
    {
     "data": {
      "text/html": [
       "<div>\n",
       "<style scoped>\n",
       "    .dataframe tbody tr th:only-of-type {\n",
       "        vertical-align: middle;\n",
       "    }\n",
       "\n",
       "    .dataframe tbody tr th {\n",
       "        vertical-align: top;\n",
       "    }\n",
       "\n",
       "    .dataframe thead th {\n",
       "        text-align: right;\n",
       "    }\n",
       "</style>\n",
       "<table border=\"1\" class=\"dataframe\">\n",
       "  <thead>\n",
       "    <tr style=\"text-align: right;\">\n",
       "      <th></th>\n",
       "      <th>CreditScore</th>\n",
       "      <th>Geography</th>\n",
       "      <th>Age</th>\n",
       "      <th>Tenure</th>\n",
       "      <th>Balance</th>\n",
       "      <th>NumOfProducts</th>\n",
       "      <th>HasCrCard</th>\n",
       "      <th>IsActiveMember</th>\n",
       "      <th>EstimatedSalary</th>\n",
       "      <th>Exited</th>\n",
       "      <th>Female</th>\n",
       "      <th>Male</th>\n",
       "    </tr>\n",
       "  </thead>\n",
       "  <tbody>\n",
       "    <tr>\n",
       "      <th>0</th>\n",
       "      <td>619</td>\n",
       "      <td>1</td>\n",
       "      <td>42</td>\n",
       "      <td>2</td>\n",
       "      <td>0.00</td>\n",
       "      <td>1</td>\n",
       "      <td>1</td>\n",
       "      <td>1</td>\n",
       "      <td>101348.88</td>\n",
       "      <td>1</td>\n",
       "      <td>1</td>\n",
       "      <td>0</td>\n",
       "    </tr>\n",
       "    <tr>\n",
       "      <th>1</th>\n",
       "      <td>608</td>\n",
       "      <td>2</td>\n",
       "      <td>41</td>\n",
       "      <td>1</td>\n",
       "      <td>83807.86</td>\n",
       "      <td>1</td>\n",
       "      <td>0</td>\n",
       "      <td>1</td>\n",
       "      <td>112542.58</td>\n",
       "      <td>0</td>\n",
       "      <td>1</td>\n",
       "      <td>0</td>\n",
       "    </tr>\n",
       "    <tr>\n",
       "      <th>2</th>\n",
       "      <td>502</td>\n",
       "      <td>1</td>\n",
       "      <td>42</td>\n",
       "      <td>8</td>\n",
       "      <td>159660.80</td>\n",
       "      <td>3</td>\n",
       "      <td>1</td>\n",
       "      <td>0</td>\n",
       "      <td>113931.57</td>\n",
       "      <td>1</td>\n",
       "      <td>1</td>\n",
       "      <td>0</td>\n",
       "    </tr>\n",
       "    <tr>\n",
       "      <th>3</th>\n",
       "      <td>699</td>\n",
       "      <td>1</td>\n",
       "      <td>39</td>\n",
       "      <td>1</td>\n",
       "      <td>0.00</td>\n",
       "      <td>2</td>\n",
       "      <td>0</td>\n",
       "      <td>0</td>\n",
       "      <td>93826.63</td>\n",
       "      <td>0</td>\n",
       "      <td>1</td>\n",
       "      <td>0</td>\n",
       "    </tr>\n",
       "    <tr>\n",
       "      <th>4</th>\n",
       "      <td>850</td>\n",
       "      <td>2</td>\n",
       "      <td>43</td>\n",
       "      <td>2</td>\n",
       "      <td>125510.82</td>\n",
       "      <td>1</td>\n",
       "      <td>1</td>\n",
       "      <td>1</td>\n",
       "      <td>79084.10</td>\n",
       "      <td>0</td>\n",
       "      <td>1</td>\n",
       "      <td>0</td>\n",
       "    </tr>\n",
       "  </tbody>\n",
       "</table>\n",
       "</div>"
      ],
      "text/plain": [
       "   CreditScore  Geography  Age  Tenure    Balance  NumOfProducts  HasCrCard  \\\n",
       "0          619          1   42       2       0.00              1          1   \n",
       "1          608          2   41       1   83807.86              1          0   \n",
       "2          502          1   42       8  159660.80              3          1   \n",
       "3          699          1   39       1       0.00              2          0   \n",
       "4          850          2   43       2  125510.82              1          1   \n",
       "\n",
       "   IsActiveMember  EstimatedSalary  Exited  Female  Male  \n",
       "0               1        101348.88       1       1     0  \n",
       "1               1        112542.58       0       1     0  \n",
       "2               0        113931.57       1       1     0  \n",
       "3               0         93826.63       0       1     0  \n",
       "4               1         79084.10       0       1     0  "
      ]
     },
     "execution_count": 17,
     "metadata": {},
     "output_type": "execute_result"
    }
   ],
   "source": [
    "Data.head(5)"
   ]
  },
  {
   "cell_type": "code",
   "execution_count": 18,
   "id": "e4ba84b8",
   "metadata": {},
   "outputs": [],
   "source": [
    "Data['Categorical_Salary'] = pd.qcut(Data['EstimatedSalary'],5)"
   ]
  },
  {
   "cell_type": "code",
   "execution_count": 19,
   "id": "bc09de35",
   "metadata": {},
   "outputs": [
    {
     "data": {
      "text/html": [
       "<div>\n",
       "<style scoped>\n",
       "    .dataframe tbody tr th:only-of-type {\n",
       "        vertical-align: middle;\n",
       "    }\n",
       "\n",
       "    .dataframe tbody tr th {\n",
       "        vertical-align: top;\n",
       "    }\n",
       "\n",
       "    .dataframe thead th {\n",
       "        text-align: right;\n",
       "    }\n",
       "</style>\n",
       "<table border=\"1\" class=\"dataframe\">\n",
       "  <thead>\n",
       "    <tr style=\"text-align: right;\">\n",
       "      <th></th>\n",
       "      <th>CreditScore</th>\n",
       "      <th>Geography</th>\n",
       "      <th>Age</th>\n",
       "      <th>Tenure</th>\n",
       "      <th>Balance</th>\n",
       "      <th>NumOfProducts</th>\n",
       "      <th>HasCrCard</th>\n",
       "      <th>IsActiveMember</th>\n",
       "      <th>EstimatedSalary</th>\n",
       "      <th>Exited</th>\n",
       "      <th>Female</th>\n",
       "      <th>Male</th>\n",
       "      <th>Categorical_Salary</th>\n",
       "    </tr>\n",
       "  </thead>\n",
       "  <tbody>\n",
       "    <tr>\n",
       "      <th>0</th>\n",
       "      <td>619</td>\n",
       "      <td>1</td>\n",
       "      <td>42</td>\n",
       "      <td>2</td>\n",
       "      <td>0.00</td>\n",
       "      <td>1</td>\n",
       "      <td>1</td>\n",
       "      <td>1</td>\n",
       "      <td>101348.88</td>\n",
       "      <td>1</td>\n",
       "      <td>1</td>\n",
       "      <td>0</td>\n",
       "      <td>(80238.34, 119710.038]</td>\n",
       "    </tr>\n",
       "    <tr>\n",
       "      <th>1</th>\n",
       "      <td>608</td>\n",
       "      <td>2</td>\n",
       "      <td>41</td>\n",
       "      <td>1</td>\n",
       "      <td>83807.86</td>\n",
       "      <td>1</td>\n",
       "      <td>0</td>\n",
       "      <td>1</td>\n",
       "      <td>112542.58</td>\n",
       "      <td>0</td>\n",
       "      <td>1</td>\n",
       "      <td>0</td>\n",
       "      <td>(80238.34, 119710.038]</td>\n",
       "    </tr>\n",
       "    <tr>\n",
       "      <th>2</th>\n",
       "      <td>502</td>\n",
       "      <td>1</td>\n",
       "      <td>42</td>\n",
       "      <td>8</td>\n",
       "      <td>159660.80</td>\n",
       "      <td>3</td>\n",
       "      <td>1</td>\n",
       "      <td>0</td>\n",
       "      <td>113931.57</td>\n",
       "      <td>1</td>\n",
       "      <td>1</td>\n",
       "      <td>0</td>\n",
       "      <td>(80238.34, 119710.038]</td>\n",
       "    </tr>\n",
       "    <tr>\n",
       "      <th>3</th>\n",
       "      <td>699</td>\n",
       "      <td>1</td>\n",
       "      <td>39</td>\n",
       "      <td>1</td>\n",
       "      <td>0.00</td>\n",
       "      <td>2</td>\n",
       "      <td>0</td>\n",
       "      <td>0</td>\n",
       "      <td>93826.63</td>\n",
       "      <td>0</td>\n",
       "      <td>1</td>\n",
       "      <td>0</td>\n",
       "      <td>(80238.34, 119710.038]</td>\n",
       "    </tr>\n",
       "    <tr>\n",
       "      <th>4</th>\n",
       "      <td>850</td>\n",
       "      <td>2</td>\n",
       "      <td>43</td>\n",
       "      <td>2</td>\n",
       "      <td>125510.82</td>\n",
       "      <td>1</td>\n",
       "      <td>1</td>\n",
       "      <td>1</td>\n",
       "      <td>79084.10</td>\n",
       "      <td>0</td>\n",
       "      <td>1</td>\n",
       "      <td>0</td>\n",
       "      <td>(41050.736, 80238.34]</td>\n",
       "    </tr>\n",
       "  </tbody>\n",
       "</table>\n",
       "</div>"
      ],
      "text/plain": [
       "   CreditScore  Geography  Age  Tenure    Balance  NumOfProducts  HasCrCard  \\\n",
       "0          619          1   42       2       0.00              1          1   \n",
       "1          608          2   41       1   83807.86              1          0   \n",
       "2          502          1   42       8  159660.80              3          1   \n",
       "3          699          1   39       1       0.00              2          0   \n",
       "4          850          2   43       2  125510.82              1          1   \n",
       "\n",
       "   IsActiveMember  EstimatedSalary  Exited  Female  Male  \\\n",
       "0               1        101348.88       1       1     0   \n",
       "1               1        112542.58       0       1     0   \n",
       "2               0        113931.57       1       1     0   \n",
       "3               0         93826.63       0       1     0   \n",
       "4               1         79084.10       0       1     0   \n",
       "\n",
       "       Categorical_Salary  \n",
       "0  (80238.34, 119710.038]  \n",
       "1  (80238.34, 119710.038]  \n",
       "2  (80238.34, 119710.038]  \n",
       "3  (80238.34, 119710.038]  \n",
       "4   (41050.736, 80238.34]  "
      ]
     },
     "execution_count": 19,
     "metadata": {},
     "output_type": "execute_result"
    }
   ],
   "source": [
    "Data.head(5)"
   ]
  },
  {
   "cell_type": "code",
   "execution_count": 20,
   "id": "549564e8",
   "metadata": {},
   "outputs": [
    {
     "data": {
      "text/plain": [
       "[(80238.34, 119710.038], (41050.736, 80238.34], (119710.038, 159836.726], (11.579, 41050.736], (159836.726, 199992.48]]\n",
       "Categories (5, interval[float64, right]): [(11.579, 41050.736] < (41050.736, 80238.34] < (80238.34, 119710.038] < (119710.038, 159836.726] < (159836.726, 199992.48]]"
      ]
     },
     "execution_count": 20,
     "metadata": {},
     "output_type": "execute_result"
    }
   ],
   "source": [
    "Data['Categorical_Salary'].unique()"
   ]
  },
  {
   "cell_type": "code",
   "execution_count": 21,
   "id": "a8e2621f",
   "metadata": {},
   "outputs": [],
   "source": [
    "Iteration = [Data]\n",
    "for dataset in Iteration:\n",
    "    dataset.loc[(dataset['EstimatedSalary'] <= 41050.736), 'EstimatedSalary'] = 1\n",
    "    dataset.loc[(dataset['EstimatedSalary'] > 41050.736) & (dataset['EstimatedSalary'] <= 80238.34) , 'EstimatedSalary'] = 2\n",
    "    dataset.loc[(dataset['EstimatedSalary'] > 80238.34) & (dataset['EstimatedSalary'] <= 119710.038) , 'EstimatedSalary'] = 3\n",
    "    dataset.loc[(dataset['EstimatedSalary'] > 119710.038) & (dataset['EstimatedSalary'] <= 159836.729) , 'EstimatedSalary'] = 4\n",
    "    dataset.loc[(dataset['EstimatedSalary'] > 159836.726) ,'EstimatedSalary'] = 5"
   ]
  },
  {
   "cell_type": "code",
   "execution_count": 22,
   "id": "afbc03fe",
   "metadata": {},
   "outputs": [],
   "source": [
    "Data = Data.drop(['Categorical_Salary'],axis=1)"
   ]
  },
  {
   "cell_type": "code",
   "execution_count": 23,
   "id": "138af3d2",
   "metadata": {},
   "outputs": [
    {
     "data": {
      "text/html": [
       "<div>\n",
       "<style scoped>\n",
       "    .dataframe tbody tr th:only-of-type {\n",
       "        vertical-align: middle;\n",
       "    }\n",
       "\n",
       "    .dataframe tbody tr th {\n",
       "        vertical-align: top;\n",
       "    }\n",
       "\n",
       "    .dataframe thead th {\n",
       "        text-align: right;\n",
       "    }\n",
       "</style>\n",
       "<table border=\"1\" class=\"dataframe\">\n",
       "  <thead>\n",
       "    <tr style=\"text-align: right;\">\n",
       "      <th></th>\n",
       "      <th>CreditScore</th>\n",
       "      <th>Geography</th>\n",
       "      <th>Age</th>\n",
       "      <th>Tenure</th>\n",
       "      <th>Balance</th>\n",
       "      <th>NumOfProducts</th>\n",
       "      <th>HasCrCard</th>\n",
       "      <th>IsActiveMember</th>\n",
       "      <th>EstimatedSalary</th>\n",
       "      <th>Exited</th>\n",
       "      <th>Female</th>\n",
       "      <th>Male</th>\n",
       "    </tr>\n",
       "  </thead>\n",
       "  <tbody>\n",
       "    <tr>\n",
       "      <th>0</th>\n",
       "      <td>619</td>\n",
       "      <td>1</td>\n",
       "      <td>42</td>\n",
       "      <td>2</td>\n",
       "      <td>0.00</td>\n",
       "      <td>1</td>\n",
       "      <td>1</td>\n",
       "      <td>1</td>\n",
       "      <td>3.0</td>\n",
       "      <td>1</td>\n",
       "      <td>1</td>\n",
       "      <td>0</td>\n",
       "    </tr>\n",
       "    <tr>\n",
       "      <th>1</th>\n",
       "      <td>608</td>\n",
       "      <td>2</td>\n",
       "      <td>41</td>\n",
       "      <td>1</td>\n",
       "      <td>83807.86</td>\n",
       "      <td>1</td>\n",
       "      <td>0</td>\n",
       "      <td>1</td>\n",
       "      <td>3.0</td>\n",
       "      <td>0</td>\n",
       "      <td>1</td>\n",
       "      <td>0</td>\n",
       "    </tr>\n",
       "    <tr>\n",
       "      <th>2</th>\n",
       "      <td>502</td>\n",
       "      <td>1</td>\n",
       "      <td>42</td>\n",
       "      <td>8</td>\n",
       "      <td>159660.80</td>\n",
       "      <td>3</td>\n",
       "      <td>1</td>\n",
       "      <td>0</td>\n",
       "      <td>3.0</td>\n",
       "      <td>1</td>\n",
       "      <td>1</td>\n",
       "      <td>0</td>\n",
       "    </tr>\n",
       "    <tr>\n",
       "      <th>3</th>\n",
       "      <td>699</td>\n",
       "      <td>1</td>\n",
       "      <td>39</td>\n",
       "      <td>1</td>\n",
       "      <td>0.00</td>\n",
       "      <td>2</td>\n",
       "      <td>0</td>\n",
       "      <td>0</td>\n",
       "      <td>3.0</td>\n",
       "      <td>0</td>\n",
       "      <td>1</td>\n",
       "      <td>0</td>\n",
       "    </tr>\n",
       "    <tr>\n",
       "      <th>4</th>\n",
       "      <td>850</td>\n",
       "      <td>2</td>\n",
       "      <td>43</td>\n",
       "      <td>2</td>\n",
       "      <td>125510.82</td>\n",
       "      <td>1</td>\n",
       "      <td>1</td>\n",
       "      <td>1</td>\n",
       "      <td>2.0</td>\n",
       "      <td>0</td>\n",
       "      <td>1</td>\n",
       "      <td>0</td>\n",
       "    </tr>\n",
       "  </tbody>\n",
       "</table>\n",
       "</div>"
      ],
      "text/plain": [
       "   CreditScore  Geography  Age  Tenure    Balance  NumOfProducts  HasCrCard  \\\n",
       "0          619          1   42       2       0.00              1          1   \n",
       "1          608          2   41       1   83807.86              1          0   \n",
       "2          502          1   42       8  159660.80              3          1   \n",
       "3          699          1   39       1       0.00              2          0   \n",
       "4          850          2   43       2  125510.82              1          1   \n",
       "\n",
       "   IsActiveMember  EstimatedSalary  Exited  Female  Male  \n",
       "0               1              3.0       1       1     0  \n",
       "1               1              3.0       0       1     0  \n",
       "2               0              3.0       1       1     0  \n",
       "3               0              3.0       0       1     0  \n",
       "4               1              2.0       0       1     0  "
      ]
     },
     "execution_count": 23,
     "metadata": {},
     "output_type": "execute_result"
    }
   ],
   "source": [
    "Data.head(5)"
   ]
  },
  {
   "cell_type": "code",
   "execution_count": 24,
   "id": "3c70757a",
   "metadata": {},
   "outputs": [],
   "source": [
    "Data['Catergorical_Balance'] = pd.qcut(Data['Balance'],5 , duplicates= 'drop')"
   ]
  },
  {
   "cell_type": "code",
   "execution_count": 25,
   "id": "b0201916",
   "metadata": {
    "scrolled": false
   },
   "outputs": [
    {
     "data": {
      "text/html": [
       "<div>\n",
       "<style scoped>\n",
       "    .dataframe tbody tr th:only-of-type {\n",
       "        vertical-align: middle;\n",
       "    }\n",
       "\n",
       "    .dataframe tbody tr th {\n",
       "        vertical-align: top;\n",
       "    }\n",
       "\n",
       "    .dataframe thead th {\n",
       "        text-align: right;\n",
       "    }\n",
       "</style>\n",
       "<table border=\"1\" class=\"dataframe\">\n",
       "  <thead>\n",
       "    <tr style=\"text-align: right;\">\n",
       "      <th></th>\n",
       "      <th>CreditScore</th>\n",
       "      <th>Geography</th>\n",
       "      <th>Age</th>\n",
       "      <th>Tenure</th>\n",
       "      <th>Balance</th>\n",
       "      <th>NumOfProducts</th>\n",
       "      <th>HasCrCard</th>\n",
       "      <th>IsActiveMember</th>\n",
       "      <th>EstimatedSalary</th>\n",
       "      <th>Exited</th>\n",
       "      <th>Female</th>\n",
       "      <th>Male</th>\n",
       "      <th>Catergorical_Balance</th>\n",
       "    </tr>\n",
       "  </thead>\n",
       "  <tbody>\n",
       "    <tr>\n",
       "      <th>0</th>\n",
       "      <td>619</td>\n",
       "      <td>1</td>\n",
       "      <td>42</td>\n",
       "      <td>2</td>\n",
       "      <td>0.00</td>\n",
       "      <td>1</td>\n",
       "      <td>1</td>\n",
       "      <td>1</td>\n",
       "      <td>3.0</td>\n",
       "      <td>1</td>\n",
       "      <td>1</td>\n",
       "      <td>0</td>\n",
       "      <td>(-0.001, 73080.908]</td>\n",
       "    </tr>\n",
       "    <tr>\n",
       "      <th>1</th>\n",
       "      <td>608</td>\n",
       "      <td>2</td>\n",
       "      <td>41</td>\n",
       "      <td>1</td>\n",
       "      <td>83807.86</td>\n",
       "      <td>1</td>\n",
       "      <td>0</td>\n",
       "      <td>1</td>\n",
       "      <td>3.0</td>\n",
       "      <td>0</td>\n",
       "      <td>1</td>\n",
       "      <td>0</td>\n",
       "      <td>(73080.908, 110138.926]</td>\n",
       "    </tr>\n",
       "    <tr>\n",
       "      <th>2</th>\n",
       "      <td>502</td>\n",
       "      <td>1</td>\n",
       "      <td>42</td>\n",
       "      <td>8</td>\n",
       "      <td>159660.80</td>\n",
       "      <td>3</td>\n",
       "      <td>1</td>\n",
       "      <td>0</td>\n",
       "      <td>3.0</td>\n",
       "      <td>1</td>\n",
       "      <td>1</td>\n",
       "      <td>0</td>\n",
       "      <td>(133710.358, 250898.09]</td>\n",
       "    </tr>\n",
       "    <tr>\n",
       "      <th>3</th>\n",
       "      <td>699</td>\n",
       "      <td>1</td>\n",
       "      <td>39</td>\n",
       "      <td>1</td>\n",
       "      <td>0.00</td>\n",
       "      <td>2</td>\n",
       "      <td>0</td>\n",
       "      <td>0</td>\n",
       "      <td>3.0</td>\n",
       "      <td>0</td>\n",
       "      <td>1</td>\n",
       "      <td>0</td>\n",
       "      <td>(-0.001, 73080.908]</td>\n",
       "    </tr>\n",
       "    <tr>\n",
       "      <th>4</th>\n",
       "      <td>850</td>\n",
       "      <td>2</td>\n",
       "      <td>43</td>\n",
       "      <td>2</td>\n",
       "      <td>125510.82</td>\n",
       "      <td>1</td>\n",
       "      <td>1</td>\n",
       "      <td>1</td>\n",
       "      <td>2.0</td>\n",
       "      <td>0</td>\n",
       "      <td>1</td>\n",
       "      <td>0</td>\n",
       "      <td>(110138.926, 133710.358]</td>\n",
       "    </tr>\n",
       "  </tbody>\n",
       "</table>\n",
       "</div>"
      ],
      "text/plain": [
       "   CreditScore  Geography  Age  Tenure    Balance  NumOfProducts  HasCrCard  \\\n",
       "0          619          1   42       2       0.00              1          1   \n",
       "1          608          2   41       1   83807.86              1          0   \n",
       "2          502          1   42       8  159660.80              3          1   \n",
       "3          699          1   39       1       0.00              2          0   \n",
       "4          850          2   43       2  125510.82              1          1   \n",
       "\n",
       "   IsActiveMember  EstimatedSalary  Exited  Female  Male  \\\n",
       "0               1              3.0       1       1     0   \n",
       "1               1              3.0       0       1     0   \n",
       "2               0              3.0       1       1     0   \n",
       "3               0              3.0       0       1     0   \n",
       "4               1              2.0       0       1     0   \n",
       "\n",
       "       Catergorical_Balance  \n",
       "0       (-0.001, 73080.908]  \n",
       "1   (73080.908, 110138.926]  \n",
       "2   (133710.358, 250898.09]  \n",
       "3       (-0.001, 73080.908]  \n",
       "4  (110138.926, 133710.358]  "
      ]
     },
     "execution_count": 25,
     "metadata": {},
     "output_type": "execute_result"
    }
   ],
   "source": [
    "Data.head(5)"
   ]
  },
  {
   "cell_type": "code",
   "execution_count": 26,
   "id": "b3448735",
   "metadata": {},
   "outputs": [
    {
     "data": {
      "text/plain": [
       "[(-0.001, 73080.908], (73080.908, 110138.926], (133710.358, 250898.09], (110138.926, 133710.358]]\n",
       "Categories (4, interval[float64, right]): [(-0.001, 73080.908] < (73080.908, 110138.926] < (110138.926, 133710.358] < (133710.358, 250898.09]]"
      ]
     },
     "execution_count": 26,
     "metadata": {},
     "output_type": "execute_result"
    }
   ],
   "source": [
    "Data['Catergorical_Balance'].unique()"
   ]
  },
  {
   "cell_type": "code",
   "execution_count": 27,
   "id": "07fb8db2",
   "metadata": {},
   "outputs": [],
   "source": [
    "Iteration2 = [Data]\n",
    "for dataset in Iteration2:\n",
    "    dataset.loc[(dataset['Balance'] <= 73080.908) , 'Balance'] = 1\n",
    "    dataset.loc[(dataset['Balance'] > 73080.908) & (dataset['Balance'] <= 110138.926) , 'Balance'] = 2\n",
    "    dataset.loc[(dataset['Balance'] > 110138.926) & (dataset['Balance'] <= 133710.358) , 'Balance'] = 3\n",
    "    dataset.loc[(dataset['Balance'] >= 133710.358) , 'Balance'] = 4"
   ]
  },
  {
   "cell_type": "code",
   "execution_count": 28,
   "id": "4699bda3",
   "metadata": {},
   "outputs": [],
   "source": [
    "Data = Data.drop(['Catergorical_Balance'] , axis=1)"
   ]
  },
  {
   "cell_type": "code",
   "execution_count": 29,
   "id": "dcbea435",
   "metadata": {
    "scrolled": true
   },
   "outputs": [
    {
     "data": {
      "text/html": [
       "<div>\n",
       "<style scoped>\n",
       "    .dataframe tbody tr th:only-of-type {\n",
       "        vertical-align: middle;\n",
       "    }\n",
       "\n",
       "    .dataframe tbody tr th {\n",
       "        vertical-align: top;\n",
       "    }\n",
       "\n",
       "    .dataframe thead th {\n",
       "        text-align: right;\n",
       "    }\n",
       "</style>\n",
       "<table border=\"1\" class=\"dataframe\">\n",
       "  <thead>\n",
       "    <tr style=\"text-align: right;\">\n",
       "      <th></th>\n",
       "      <th>CreditScore</th>\n",
       "      <th>Geography</th>\n",
       "      <th>Age</th>\n",
       "      <th>Tenure</th>\n",
       "      <th>Balance</th>\n",
       "      <th>NumOfProducts</th>\n",
       "      <th>HasCrCard</th>\n",
       "      <th>IsActiveMember</th>\n",
       "      <th>EstimatedSalary</th>\n",
       "      <th>Exited</th>\n",
       "      <th>Female</th>\n",
       "      <th>Male</th>\n",
       "    </tr>\n",
       "  </thead>\n",
       "  <tbody>\n",
       "    <tr>\n",
       "      <th>0</th>\n",
       "      <td>619</td>\n",
       "      <td>1</td>\n",
       "      <td>42</td>\n",
       "      <td>2</td>\n",
       "      <td>1.0</td>\n",
       "      <td>1</td>\n",
       "      <td>1</td>\n",
       "      <td>1</td>\n",
       "      <td>3.0</td>\n",
       "      <td>1</td>\n",
       "      <td>1</td>\n",
       "      <td>0</td>\n",
       "    </tr>\n",
       "    <tr>\n",
       "      <th>1</th>\n",
       "      <td>608</td>\n",
       "      <td>2</td>\n",
       "      <td>41</td>\n",
       "      <td>1</td>\n",
       "      <td>2.0</td>\n",
       "      <td>1</td>\n",
       "      <td>0</td>\n",
       "      <td>1</td>\n",
       "      <td>3.0</td>\n",
       "      <td>0</td>\n",
       "      <td>1</td>\n",
       "      <td>0</td>\n",
       "    </tr>\n",
       "    <tr>\n",
       "      <th>2</th>\n",
       "      <td>502</td>\n",
       "      <td>1</td>\n",
       "      <td>42</td>\n",
       "      <td>8</td>\n",
       "      <td>4.0</td>\n",
       "      <td>3</td>\n",
       "      <td>1</td>\n",
       "      <td>0</td>\n",
       "      <td>3.0</td>\n",
       "      <td>1</td>\n",
       "      <td>1</td>\n",
       "      <td>0</td>\n",
       "    </tr>\n",
       "    <tr>\n",
       "      <th>3</th>\n",
       "      <td>699</td>\n",
       "      <td>1</td>\n",
       "      <td>39</td>\n",
       "      <td>1</td>\n",
       "      <td>1.0</td>\n",
       "      <td>2</td>\n",
       "      <td>0</td>\n",
       "      <td>0</td>\n",
       "      <td>3.0</td>\n",
       "      <td>0</td>\n",
       "      <td>1</td>\n",
       "      <td>0</td>\n",
       "    </tr>\n",
       "    <tr>\n",
       "      <th>4</th>\n",
       "      <td>850</td>\n",
       "      <td>2</td>\n",
       "      <td>43</td>\n",
       "      <td>2</td>\n",
       "      <td>3.0</td>\n",
       "      <td>1</td>\n",
       "      <td>1</td>\n",
       "      <td>1</td>\n",
       "      <td>2.0</td>\n",
       "      <td>0</td>\n",
       "      <td>1</td>\n",
       "      <td>0</td>\n",
       "    </tr>\n",
       "  </tbody>\n",
       "</table>\n",
       "</div>"
      ],
      "text/plain": [
       "   CreditScore  Geography  Age  Tenure  Balance  NumOfProducts  HasCrCard  \\\n",
       "0          619          1   42       2      1.0              1          1   \n",
       "1          608          2   41       1      2.0              1          0   \n",
       "2          502          1   42       8      4.0              3          1   \n",
       "3          699          1   39       1      1.0              2          0   \n",
       "4          850          2   43       2      3.0              1          1   \n",
       "\n",
       "   IsActiveMember  EstimatedSalary  Exited  Female  Male  \n",
       "0               1              3.0       1       1     0  \n",
       "1               1              3.0       0       1     0  \n",
       "2               0              3.0       1       1     0  \n",
       "3               0              3.0       0       1     0  \n",
       "4               1              2.0       0       1     0  "
      ]
     },
     "execution_count": 29,
     "metadata": {},
     "output_type": "execute_result"
    }
   ],
   "source": [
    "Data.head(5)"
   ]
  },
  {
   "cell_type": "code",
   "execution_count": 30,
   "id": "9fe2466f",
   "metadata": {},
   "outputs": [
    {
     "data": {
      "text/plain": [
       "\"Iteration3 = [Data]\\nfor dataset in Iteration3:\\n    dataset.loc[(dataset['Age'] <= 32.8) , ' Age'] = 1\\n    dataset.loc[(dataset['Age'] > 32.8) & (dataset['Age'] <= 47.6) , 'Age'] = 2\\n    dataset.loc[(dataset['Age'] > 47.6) & (dataset['Age'] <= 62.4) , 'Age'] = 3\\n    dataset.loc[(dataset['Age'] > 62.4) & (dataset['Age'] <= 77.2) , 'Age'] = 4\\n    dataset.loc[(dataset['Age'] > 77.2) & (dataset['Age'] <= 92.0) , 'Age'] = 5\""
      ]
     },
     "execution_count": 30,
     "metadata": {},
     "output_type": "execute_result"
    }
   ],
   "source": [
    "'''Iteration3 = [Data]\n",
    "for dataset in Iteration3:\n",
    "    dataset.loc[(dataset['Age'] <= 32.8) , ' Age'] = 1\n",
    "    dataset.loc[(dataset['Age'] > 32.8) & (dataset['Age'] <= 47.6) , 'Age'] = 2\n",
    "    dataset.loc[(dataset['Age'] > 47.6) & (dataset['Age'] <= 62.4) , 'Age'] = 3\n",
    "    dataset.loc[(dataset['Age'] > 62.4) & (dataset['Age'] <= 77.2) , 'Age'] = 4\n",
    "    dataset.loc[(dataset['Age'] > 77.2) & (dataset['Age'] <= 92.0) , 'Age'] = 5'''"
   ]
  },
  {
   "cell_type": "markdown",
   "id": "931573d8",
   "metadata": {},
   "source": [
    "### Checking correlation"
   ]
  },
  {
   "cell_type": "code",
   "execution_count": 31,
   "id": "ee8a86f9",
   "metadata": {},
   "outputs": [
    {
     "data": {
      "text/plain": [
       "<AxesSubplot:>"
      ]
     },
     "execution_count": 31,
     "metadata": {},
     "output_type": "execute_result"
    },
    {
     "data": {
      "image/png": "[encoded data removed]",
      "text/plain": [
       "<Figure size 1400x1200 with 2 Axes>"
      ]
     },
     "metadata": {},
     "output_type": "display_data"
    }
   ],
   "source": [
    "plt.figure(figsize=(14,12))\n",
    "sns.heatmap(Data.corr(),annot=True)"
   ]
  },
  {
   "cell_type": "code",
   "execution_count": 32,
   "id": "cf62757d",
   "metadata": {},
   "outputs": [],
   "source": [
    "x  = Data.iloc[:,[1,2,7,10,11]].values\n",
    "y = Data.iloc[:,9].values"
   ]
  },
  {
   "cell_type": "code",
   "execution_count": 33,
   "id": "44a35483",
   "metadata": {},
   "outputs": [],
   "source": [
    "from sklearn.model_selection import train_test_split\n",
    "x_train , x_test , y_train , y_test = train_test_split(x,y, test_size = 0.25)"
   ]
  },
  {
   "cell_type": "code",
   "execution_count": 34,
   "id": "df951120",
   "metadata": {},
   "outputs": [
    {
     "data": {
      "text/plain": [
       "(7500, 5)"
      ]
     },
     "execution_count": 34,
     "metadata": {},
     "output_type": "execute_result"
    }
   ],
   "source": [
    "x_train.shape"
   ]
  },
  {
   "cell_type": "code",
   "execution_count": 35,
   "id": "f66fcec9",
   "metadata": {},
   "outputs": [
    {
     "data": {
      "text/plain": [
       "(2500, 5)"
      ]
     },
     "execution_count": 35,
     "metadata": {},
     "output_type": "execute_result"
    }
   ],
   "source": [
    "x_test.shape"
   ]
  },
  {
   "cell_type": "code",
   "execution_count": 36,
   "id": "c318b76e",
   "metadata": {},
   "outputs": [],
   "source": [
    "import keras_tuner\n",
    "from tensorflow import keras\n",
    "from tensorflow.keras.losses import BinaryCrossentropy"
   ]
  },
  {
   "cell_type": "code",
   "execution_count": 43,
   "id": "6fe9b22d",
   "metadata": {},
   "outputs": [],
   "source": [
    "def build_model(hp):\n",
    "    model = keras.Sequential()\n",
    "    hp_units = hp.Int('units', min_value = 5 , max_value = 100 ,step = 10)\n",
    "    #model.add(keras.layers.Dense(hp.Choice('units',[5,10,15,20,25,30,35,40]),activation='relu'))\n",
    "    model.add(keras.layers.Dense(units=hp_units , activation = 'relu'))\n",
    "    model.add(keras.layers.Dense(1 , activation= 'sigmoid'))\n",
    "    \n",
    "    hp_learning_rate = hp.Choice('learning_rate', values = [1e-2 , 1e-3 , 1e-4])\n",
    "    \n",
    "    model.compile(optimizer=keras.optimizers.Adam(learning_rate=hp_learning_rate) , loss = keras.losses.BinaryCrossentropy(),\n",
    "                 metrics=['accuracy'])\n",
    "    return model;"
   ]
  },
  {
   "cell_type": "code",
   "execution_count": 38,
   "id": "6ac87867",
   "metadata": {},
   "outputs": [],
   "source": [
    "#tuner = keras_tuner.Hyperband(build_model, max_epochs= 10)\n"
   ]
  },
  {
   "cell_type": "code",
   "execution_count": 39,
   "id": "c0a752ac",
   "metadata": {},
   "outputs": [],
   "source": [
    "#tuner.search(x_train , y_train , epochs = 50 , validation_split = 0.2 )"
   ]
  },
  {
   "cell_type": "code",
   "execution_count": 46,
   "id": "dbb36569",
   "metadata": {},
   "outputs": [],
   "source": [
    "tuner = keras_tuner.RandomSearch(hypermodel=build_model ,objective='val_loss',max_trials=5,\n",
    "                                executions_per_trial = 3, directory = 'document',project_name = 'Ai churn classification')\n"
   ]
  },
  {
   "cell_type": "code",
   "execution_count": 47,
   "id": "167d77a8",
   "metadata": {},
   "outputs": [
    {
     "name": "stdout",
     "output_type": "stream",
     "text": [
      "Trial 5 Complete [00h 00m 14s]\n",
      "val_loss: 0.4459363321463267\n",
      "\n",
      "Best val_loss So Far: 0.44340654214223224\n",
      "Total elapsed time: 00h 01m 15s\n",
      "INFO:tensorflow:Oracle triggered exit\n"
     ]
    }
   ],
   "source": [
    "tuner.search(x_train,y_train,epochs = 10 ,validation_data = (x_test , y_test))"
   ]
  },
  {
   "cell_type": "code",
   "execution_count": 48,
   "id": "68a6f601",
   "metadata": {
    "scrolled": true
   },
   "outputs": [
    {
     "name": "stdout",
     "output_type": "stream",
     "text": [
      "Results summary\n",
      "Results in document\\Ai churn classification\n",
      "Showing 10 best trials\n",
      "Objective(name=\"val_loss\", direction=\"min\")\n",
      "\n",
      "Trial 3 summary\n",
      "Hyperparameters:\n",
      "units: 95\n",
      "learning_rate: 0.01\n",
      "Score: 0.44340654214223224\n",
      "\n",
      "Trial 1 summary\n",
      "Hyperparameters:\n",
      "units: 45\n",
      "learning_rate: 0.001\n",
      "Score: 0.44464991490046185\n",
      "\n",
      "Trial 2 summary\n",
      "Hyperparameters:\n",
      "units: 65\n",
      "learning_rate: 0.01\n",
      "Score: 0.4454662303129832\n",
      "\n",
      "Trial 4 summary\n",
      "Hyperparameters:\n",
      "units: 65\n",
      "learning_rate: 0.001\n",
      "Score: 0.4459363321463267\n",
      "\n",
      "Trial 0 summary\n",
      "Hyperparameters:\n",
      "units: 25\n",
      "learning_rate: 0.001\n",
      "Score: 0.46053119500478107\n"
     ]
    }
   ],
   "source": [
    "tuner.results_summary()"
   ]
  },
  {
   "cell_type": "code",
   "execution_count": 49,
   "id": "0c58ae23",
   "metadata": {},
   "outputs": [],
   "source": [
    "best_hp = tuner.get_best_hyperparameters(num_trials = 1)[0]"
   ]
  },
  {
   "cell_type": "code",
   "execution_count": 52,
   "id": "f315d61f",
   "metadata": {},
   "outputs": [
    {
     "name": "stdout",
     "output_type": "stream",
     "text": [
      "\n",
      "The hyperparameter search is complete. The optimal number of units in the first densely-connected\n",
      "layer is 95 and the optimal learning rate for the optimizer\n",
      "is 0.01.\n",
      "\n"
     ]
    }
   ],
   "source": [
    "print(f\"\"\"\n",
    "The hyperparameter search is complete. The optimal number of units in the first densely-connected\n",
    "layer is {best_hp.get('units')} and the optimal learning rate for the optimizer\n",
    "is {best_hp.get('learning_rate')}.\n",
    "\"\"\")"
   ]
  },
  {
   "cell_type": "code",
   "execution_count": 53,
   "id": "46ee4610",
   "metadata": {},
   "outputs": [],
   "source": [
    "model1 = tuner.hypermodel.build(best_hp)"
   ]
  },
  {
   "cell_type": "code",
   "execution_count": 54,
   "id": "8129e261",
   "metadata": {},
   "outputs": [
    {
     "name": "stdout",
     "output_type": "stream",
     "text": [
      "Epoch 1/50\n",
      "188/188 [==============================] - 1s 2ms/step - loss: 0.5438 - accuracy: 0.7760 - val_loss: 0.4814 - val_accuracy: 0.7867\n",
      "Epoch 2/50\n",
      "188/188 [==============================] - 0s 2ms/step - loss: 0.4833 - accuracy: 0.7957 - val_loss: 0.4248 - val_accuracy: 0.8173\n",
      "Epoch 3/50\n",
      "188/188 [==============================] - 0s 1ms/step - loss: 0.4590 - accuracy: 0.7983 - val_loss: 0.4231 - val_accuracy: 0.8173\n",
      "Epoch 4/50\n",
      "188/188 [==============================] - 0s 2ms/step - loss: 0.4503 - accuracy: 0.8042 - val_loss: 0.4493 - val_accuracy: 0.8100\n",
      "Epoch 5/50\n",
      "188/188 [==============================] - 0s 2ms/step - loss: 0.4458 - accuracy: 0.8057 - val_loss: 0.4226 - val_accuracy: 0.8207\n",
      "Epoch 6/50\n",
      "188/188 [==============================] - 0s 1ms/step - loss: 0.4470 - accuracy: 0.8068 - val_loss: 0.4214 - val_accuracy: 0.8193\n",
      "Epoch 7/50\n",
      "188/188 [==============================] - 0s 1ms/step - loss: 0.4493 - accuracy: 0.8087 - val_loss: 0.4253 - val_accuracy: 0.8173\n",
      "Epoch 8/50\n",
      "188/188 [==============================] - 0s 1ms/step - loss: 0.4458 - accuracy: 0.8028 - val_loss: 0.4221 - val_accuracy: 0.8167\n",
      "Epoch 9/50\n",
      "188/188 [==============================] - 0s 1ms/step - loss: 0.4414 - accuracy: 0.8085 - val_loss: 0.4235 - val_accuracy: 0.8160\n",
      "Epoch 10/50\n",
      "188/188 [==============================] - 0s 1ms/step - loss: 0.4418 - accuracy: 0.8085 - val_loss: 0.4272 - val_accuracy: 0.8140\n",
      "Epoch 11/50\n",
      "188/188 [==============================] - 0s 2ms/step - loss: 0.4384 - accuracy: 0.8083 - val_loss: 0.4307 - val_accuracy: 0.8160\n",
      "Epoch 12/50\n",
      "188/188 [==============================] - 0s 2ms/step - loss: 0.4450 - accuracy: 0.8072 - val_loss: 0.4241 - val_accuracy: 0.8173\n",
      "Epoch 13/50\n",
      "188/188 [==============================] - 0s 2ms/step - loss: 0.4448 - accuracy: 0.8105 - val_loss: 0.4368 - val_accuracy: 0.8160\n",
      "Epoch 14/50\n",
      "188/188 [==============================] - 0s 2ms/step - loss: 0.4434 - accuracy: 0.8108 - val_loss: 0.4470 - val_accuracy: 0.8087\n",
      "Epoch 15/50\n",
      "188/188 [==============================] - 0s 1ms/step - loss: 0.4369 - accuracy: 0.8105 - val_loss: 0.4219 - val_accuracy: 0.8147\n",
      "Epoch 16/50\n",
      "188/188 [==============================] - 0s 1ms/step - loss: 0.4402 - accuracy: 0.8100 - val_loss: 0.4341 - val_accuracy: 0.8167\n",
      "Epoch 17/50\n",
      "188/188 [==============================] - 0s 1ms/step - loss: 0.4383 - accuracy: 0.8107 - val_loss: 0.4265 - val_accuracy: 0.8133\n",
      "Epoch 18/50\n",
      "188/188 [==============================] - 0s 2ms/step - loss: 0.4402 - accuracy: 0.8075 - val_loss: 0.4263 - val_accuracy: 0.8133\n",
      "Epoch 19/50\n",
      "188/188 [==============================] - 0s 2ms/step - loss: 0.4361 - accuracy: 0.8127 - val_loss: 0.4398 - val_accuracy: 0.8100\n",
      "Epoch 20/50\n",
      "188/188 [==============================] - 0s 2ms/step - loss: 0.4396 - accuracy: 0.8102 - val_loss: 0.4225 - val_accuracy: 0.8193\n",
      "Epoch 21/50\n",
      "188/188 [==============================] - 0s 2ms/step - loss: 0.4377 - accuracy: 0.8110 - val_loss: 0.4206 - val_accuracy: 0.8193\n",
      "Epoch 22/50\n",
      "188/188 [==============================] - 0s 2ms/step - loss: 0.4351 - accuracy: 0.8145 - val_loss: 0.4309 - val_accuracy: 0.8073\n",
      "Epoch 23/50\n",
      "188/188 [==============================] - 0s 2ms/step - loss: 0.4335 - accuracy: 0.8162 - val_loss: 0.4163 - val_accuracy: 0.8227\n",
      "Epoch 24/50\n",
      "188/188 [==============================] - 0s 2ms/step - loss: 0.4333 - accuracy: 0.8187 - val_loss: 0.4469 - val_accuracy: 0.8080\n",
      "Epoch 25/50\n",
      "188/188 [==============================] - 0s 1ms/step - loss: 0.4384 - accuracy: 0.8075 - val_loss: 0.4199 - val_accuracy: 0.8140\n",
      "Epoch 26/50\n",
      "188/188 [==============================] - 0s 2ms/step - loss: 0.4346 - accuracy: 0.8103 - val_loss: 0.4240 - val_accuracy: 0.8167\n",
      "Epoch 27/50\n",
      "188/188 [==============================] - 0s 2ms/step - loss: 0.4351 - accuracy: 0.8120 - val_loss: 0.4402 - val_accuracy: 0.8040\n",
      "Epoch 28/50\n",
      "188/188 [==============================] - 0s 1ms/step - loss: 0.4392 - accuracy: 0.8065 - val_loss: 0.4211 - val_accuracy: 0.8193\n",
      "Epoch 29/50\n",
      "188/188 [==============================] - 0s 1ms/step - loss: 0.4362 - accuracy: 0.8108 - val_loss: 0.4188 - val_accuracy: 0.8180\n",
      "Epoch 30/50\n",
      "188/188 [==============================] - 0s 2ms/step - loss: 0.4357 - accuracy: 0.8140 - val_loss: 0.4223 - val_accuracy: 0.8200\n",
      "Epoch 31/50\n",
      "188/188 [==============================] - 0s 1ms/step - loss: 0.4326 - accuracy: 0.8135 - val_loss: 0.4227 - val_accuracy: 0.8160\n",
      "Epoch 32/50\n",
      "188/188 [==============================] - 0s 1ms/step - loss: 0.4361 - accuracy: 0.8147 - val_loss: 0.4246 - val_accuracy: 0.8167\n",
      "Epoch 33/50\n",
      "188/188 [==============================] - 0s 2ms/step - loss: 0.4319 - accuracy: 0.8187 - val_loss: 0.4206 - val_accuracy: 0.8280\n",
      "Epoch 34/50\n",
      "188/188 [==============================] - 0s 2ms/step - loss: 0.4314 - accuracy: 0.8193 - val_loss: 0.4121 - val_accuracy: 0.8280\n",
      "Epoch 35/50\n",
      "188/188 [==============================] - 0s 2ms/step - loss: 0.4253 - accuracy: 0.8267 - val_loss: 0.4224 - val_accuracy: 0.8180\n",
      "Epoch 36/50\n",
      "188/188 [==============================] - 0s 1ms/step - loss: 0.4380 - accuracy: 0.8075 - val_loss: 0.4451 - val_accuracy: 0.8007\n",
      "Epoch 37/50\n",
      "188/188 [==============================] - 0s 1ms/step - loss: 0.4366 - accuracy: 0.8102 - val_loss: 0.4212 - val_accuracy: 0.8160\n",
      "Epoch 38/50\n",
      "188/188 [==============================] - 0s 1ms/step - loss: 0.4345 - accuracy: 0.8128 - val_loss: 0.4386 - val_accuracy: 0.8067\n",
      "Epoch 39/50\n",
      "188/188 [==============================] - 0s 1ms/step - loss: 0.4331 - accuracy: 0.8107 - val_loss: 0.4214 - val_accuracy: 0.8160\n",
      "Epoch 40/50\n",
      "188/188 [==============================] - 0s 1ms/step - loss: 0.4351 - accuracy: 0.8112 - val_loss: 0.4215 - val_accuracy: 0.8167\n",
      "Epoch 41/50\n",
      "188/188 [==============================] - 0s 2ms/step - loss: 0.4354 - accuracy: 0.8120 - val_loss: 0.4225 - val_accuracy: 0.8160\n",
      "Epoch 42/50\n",
      "188/188 [==============================] - 0s 2ms/step - loss: 0.4344 - accuracy: 0.8125 - val_loss: 0.4220 - val_accuracy: 0.8167\n",
      "Epoch 43/50\n",
      "188/188 [==============================] - 0s 1ms/step - loss: 0.4346 - accuracy: 0.8123 - val_loss: 0.4318 - val_accuracy: 0.8107\n",
      "Epoch 44/50\n",
      "188/188 [==============================] - 0s 1ms/step - loss: 0.4349 - accuracy: 0.8110 - val_loss: 0.4319 - val_accuracy: 0.8027\n",
      "Epoch 45/50\n",
      "188/188 [==============================] - 0s 1ms/step - loss: 0.4353 - accuracy: 0.8105 - val_loss: 0.4229 - val_accuracy: 0.8120\n",
      "Epoch 46/50\n",
      "188/188 [==============================] - 0s 1ms/step - loss: 0.4359 - accuracy: 0.8088 - val_loss: 0.4215 - val_accuracy: 0.8173\n",
      "Epoch 47/50\n",
      "188/188 [==============================] - 0s 1ms/step - loss: 0.4338 - accuracy: 0.8135 - val_loss: 0.4226 - val_accuracy: 0.8147\n",
      "Epoch 48/50\n",
      "188/188 [==============================] - 0s 1ms/step - loss: 0.4348 - accuracy: 0.8073 - val_loss: 0.4231 - val_accuracy: 0.8160\n",
      "Epoch 49/50\n",
      "188/188 [==============================] - 0s 1ms/step - loss: 0.4327 - accuracy: 0.8157 - val_loss: 0.4521 - val_accuracy: 0.8007\n",
      "Epoch 50/50\n",
      "188/188 [==============================] - 0s 2ms/step - loss: 0.4336 - accuracy: 0.8128 - val_loss: 0.4290 - val_accuracy: 0.8127\n"
     ]
    }
   ],
   "source": [
    "history = model1.fit(x_train,y_train,epochs = 50 ,validation_split=0.2)"
   ]
  },
  {
   "cell_type": "code",
   "execution_count": 55,
   "id": "fb95edba",
   "metadata": {},
   "outputs": [],
   "source": [
    "val_acc_per_epoch = history.history['val_accuracy']\n",
    "best_epoch = val_acc_per_epoch.index(max(val_acc_per_epoch)) + 1"
   ]
  },
  {
   "cell_type": "code",
   "execution_count": 56,
   "id": "13ef0b72",
   "metadata": {},
   "outputs": [
    {
     "data": {
      "text/plain": [
       "33"
      ]
     },
     "execution_count": 56,
     "metadata": {},
     "output_type": "execute_result"
    }
   ],
   "source": [
    "best_epoch"
   ]
  },
  {
   "cell_type": "code",
   "execution_count": 57,
   "id": "879e77a3",
   "metadata": {},
   "outputs": [
    {
     "name": "stdout",
     "output_type": "stream",
     "text": [
      "Epoch 1/33\n",
      "188/188 [==============================] - 1s 2ms/step - loss: 0.5295 - accuracy: 0.7838 - val_loss: 0.5607 - val_accuracy: 0.7293\n",
      "Epoch 2/33\n",
      "188/188 [==============================] - 0s 2ms/step - loss: 0.5231 - accuracy: 0.7777 - val_loss: 0.4248 - val_accuracy: 0.8240\n",
      "Epoch 3/33\n",
      "188/188 [==============================] - 0s 1ms/step - loss: 0.4589 - accuracy: 0.8015 - val_loss: 0.6212 - val_accuracy: 0.6987\n",
      "Epoch 4/33\n",
      "188/188 [==============================] - 0s 2ms/step - loss: 0.4545 - accuracy: 0.8007 - val_loss: 0.4808 - val_accuracy: 0.8080\n",
      "Epoch 5/33\n",
      "188/188 [==============================] - 0s 2ms/step - loss: 0.4533 - accuracy: 0.8108 - val_loss: 0.4577 - val_accuracy: 0.8087\n",
      "Epoch 6/33\n",
      "188/188 [==============================] - 0s 1ms/step - loss: 0.4516 - accuracy: 0.8032 - val_loss: 0.4252 - val_accuracy: 0.8173\n",
      "Epoch 7/33\n",
      "188/188 [==============================] - 0s 1ms/step - loss: 0.4502 - accuracy: 0.8023 - val_loss: 0.4270 - val_accuracy: 0.8113\n",
      "Epoch 8/33\n",
      "188/188 [==============================] - 0s 1ms/step - loss: 0.4386 - accuracy: 0.8138 - val_loss: 0.4282 - val_accuracy: 0.8167\n",
      "Epoch 9/33\n",
      "188/188 [==============================] - 0s 1ms/step - loss: 0.4415 - accuracy: 0.8105 - val_loss: 0.4463 - val_accuracy: 0.8013\n",
      "Epoch 10/33\n",
      "188/188 [==============================] - 0s 1ms/step - loss: 0.4432 - accuracy: 0.8080 - val_loss: 0.4847 - val_accuracy: 0.7740\n",
      "Epoch 11/33\n",
      "188/188 [==============================] - 0s 2ms/step - loss: 0.4411 - accuracy: 0.8093 - val_loss: 0.4229 - val_accuracy: 0.8173\n",
      "Epoch 12/33\n",
      "188/188 [==============================] - 0s 2ms/step - loss: 0.4423 - accuracy: 0.8098 - val_loss: 0.4218 - val_accuracy: 0.8187\n",
      "Epoch 13/33\n",
      "188/188 [==============================] - 0s 1ms/step - loss: 0.4440 - accuracy: 0.8070 - val_loss: 0.4458 - val_accuracy: 0.8020\n",
      "Epoch 14/33\n",
      "188/188 [==============================] - 0s 1ms/step - loss: 0.4416 - accuracy: 0.8082 - val_loss: 0.4611 - val_accuracy: 0.7993\n",
      "Epoch 15/33\n",
      "188/188 [==============================] - 0s 1ms/step - loss: 0.4382 - accuracy: 0.8075 - val_loss: 0.4433 - val_accuracy: 0.8027\n",
      "Epoch 16/33\n",
      "188/188 [==============================] - 0s 1ms/step - loss: 0.4390 - accuracy: 0.8078 - val_loss: 0.4207 - val_accuracy: 0.8173\n",
      "Epoch 17/33\n",
      "188/188 [==============================] - 0s 1ms/step - loss: 0.4378 - accuracy: 0.8110 - val_loss: 0.4643 - val_accuracy: 0.7980\n",
      "Epoch 18/33\n",
      "188/188 [==============================] - 0s 1ms/step - loss: 0.4383 - accuracy: 0.8107 - val_loss: 0.4231 - val_accuracy: 0.8140\n",
      "Epoch 19/33\n",
      "188/188 [==============================] - 0s 1ms/step - loss: 0.4376 - accuracy: 0.8082 - val_loss: 0.4264 - val_accuracy: 0.8133\n",
      "Epoch 20/33\n",
      "188/188 [==============================] - 0s 1ms/step - loss: 0.4389 - accuracy: 0.8093 - val_loss: 0.4290 - val_accuracy: 0.8180\n",
      "Epoch 21/33\n",
      "188/188 [==============================] - 0s 1ms/step - loss: 0.4436 - accuracy: 0.8093 - val_loss: 0.4340 - val_accuracy: 0.8047\n",
      "Epoch 22/33\n",
      "188/188 [==============================] - 0s 1ms/step - loss: 0.4382 - accuracy: 0.8070 - val_loss: 0.4200 - val_accuracy: 0.8207\n",
      "Epoch 23/33\n",
      "188/188 [==============================] - 0s 1ms/step - loss: 0.4333 - accuracy: 0.8133 - val_loss: 0.4267 - val_accuracy: 0.8100\n",
      "Epoch 24/33\n",
      "188/188 [==============================] - 0s 2ms/step - loss: 0.4444 - accuracy: 0.8110 - val_loss: 0.4378 - val_accuracy: 0.8047\n",
      "Epoch 25/33\n",
      "188/188 [==============================] - 0s 1ms/step - loss: 0.4365 - accuracy: 0.8113 - val_loss: 0.4238 - val_accuracy: 0.8180\n",
      "Epoch 26/33\n",
      "188/188 [==============================] - 0s 1ms/step - loss: 0.4372 - accuracy: 0.8125 - val_loss: 0.4194 - val_accuracy: 0.8187\n",
      "Epoch 27/33\n",
      "188/188 [==============================] - 0s 2ms/step - loss: 0.4375 - accuracy: 0.8052 - val_loss: 0.4192 - val_accuracy: 0.8140\n",
      "Epoch 28/33\n",
      "188/188 [==============================] - 0s 2ms/step - loss: 0.4394 - accuracy: 0.8080 - val_loss: 0.4214 - val_accuracy: 0.8187\n",
      "Epoch 29/33\n",
      "188/188 [==============================] - 0s 1ms/step - loss: 0.4359 - accuracy: 0.8112 - val_loss: 0.4167 - val_accuracy: 0.8140\n",
      "Epoch 30/33\n",
      "188/188 [==============================] - 0s 2ms/step - loss: 0.4378 - accuracy: 0.8092 - val_loss: 0.4210 - val_accuracy: 0.8167\n",
      "Epoch 31/33\n",
      "188/188 [==============================] - 0s 1ms/step - loss: 0.4366 - accuracy: 0.8115 - val_loss: 0.4451 - val_accuracy: 0.8100\n",
      "Epoch 32/33\n",
      "188/188 [==============================] - 0s 1ms/step - loss: 0.4363 - accuracy: 0.8120 - val_loss: 0.4318 - val_accuracy: 0.8047\n",
      "Epoch 33/33\n",
      "188/188 [==============================] - 0s 1ms/step - loss: 0.4347 - accuracy: 0.8150 - val_loss: 0.4175 - val_accuracy: 0.8227\n"
     ]
    },
    {
     "data": {
      "text/plain": [
       "<keras.src.callbacks.History at 0x1d24d4ac700>"
      ]
     },
     "execution_count": 57,
     "metadata": {},
     "output_type": "execute_result"
    }
   ],
   "source": [
    "hypermodel = tuner.hypermodel.build(best_hp)\n",
    "hypermodel.fit(x_train , y_train, epochs = best_epoch, validation_split = 0.2)"
   ]
  },
  {
   "cell_type": "code",
   "execution_count": 58,
   "id": "bd75baab",
   "metadata": {},
   "outputs": [
    {
     "name": "stdout",
     "output_type": "stream",
     "text": [
      "79/79 [==============================] - 0s 984us/step - loss: 0.4446 - accuracy: 0.8124\n"
     ]
    }
   ],
   "source": [
    "eval_result = hypermodel.evaluate(x_test,y_test)"
   ]
  },
  {
   "cell_type": "code",
   "execution_count": 63,
   "id": "22ea05d0",
   "metadata": {},
   "outputs": [
    {
     "name": "stdout",
     "output_type": "stream",
     "text": [
      "79/79 [==============================] - 0s 889us/step\n"
     ]
    }
   ],
   "source": [
    "prediction = hypermodel.predict(x_test)\n",
    "prediction = (prediction > 0.5).astype(np.float32)"
   ]
  },
  {
   "cell_type": "code",
   "execution_count": 68,
   "id": "6467dc4c",
   "metadata": {},
   "outputs": [
    {
     "name": "stdout",
     "output_type": "stream",
     "text": [
      "81.24 %\n"
     ]
    }
   ],
   "source": [
    "from sklearn.metrics import accuracy_score\n",
    "print(accuracy_score(prediction,y_test)*100,'%')"
   ]
  },
  {
   "cell_type": "code",
   "execution_count": null,
   "id": "75ea18ac",
   "metadata": {},
   "outputs": [],
   "source": []
  }
 ],
 "metadata": {
  "kernelspec": {
   "display_name": "Python 3 (ipykernel)",
   "language": "python",
   "name": "python3"
  },
  "language_info": {
   "codemirror_mode": {
    "name": "ipython",
    "version": 3
   },
   "file_extension": ".py",
   "mimetype": "text/x-python",
   "name": "python",
   "nbconvert_exporter": "python",
   "pygments_lexer": "ipython3",
   "version": "3.9.13"
  }
 },
 "nbformat": 4,
 "nbformat_minor": 5
}
